{
 "cells": [
  {
   "cell_type": "markdown",
   "metadata": {},
   "source": [
    "# inventory management\n"
   ]
  },
  {
   "cell_type": "code",
   "execution_count": 3,
   "metadata": {},
   "outputs": [],
   "source": [
    "Items = {\"1\":{'ProductID' : 123001 , 'Name' : 'Biscuit' , 'Price' : 25 , 'Quantity' : 60 , 'Category' : 'Eatables'},\n",
    "\"2\":{'ProductID' : 123002 , 'Name' : 'Noodles' , 'Price' : 40 , 'Quantity' : 100 , 'Category' : 'Eatables'},\n",
    "\"3\":{'ProductID' : 123003 , 'Name' : 'Cold Drinks' , 'Price' : 30 , 'Quantity' : 120 , 'Category' : 'Drinks'},\n",
    "\"4\":{'ProductID' : 123004 , 'Name' : 'Maggi' , 'Price' : 12 , 'Quantity' : 50 , 'Category' : 'Eatables'},\n",
    "\"5\":{'ProductID' : 123005 , 'Name' : 'Salt' , 'Price' : 30 , 'Quantity' : 35 , 'Category' : 'Eatables'},\n",
    "\"6\":{'ProductID' : 123006 , 'Name' : 'Sauce' , 'Price' : 100 , 'Quantity' : 65 , 'Category' : 'Eatables'},\n",
    "\"7\":{'ProductID' : 123007 , 'Name' : 'Spices' , 'Price' : 120 , 'Quantity' : 200 , 'Category' : 'Eatables'},\n",
    "\"8\":{'ProductID' : 123008 , 'Name' : 'Soap' , 'Price' : 60 , 'Quantity' : 130 , 'Category' : 'Eatables'},\n",
    "\"9\":{'ProductID' : 123009 , 'Name' : 'Chocolate' , 'Price' : 10 , 'Quantity' : 90 , 'Category' : 'Eatables'},\n",
    "\"10\":{'ProductID' : 1230010 , 'Name' : 'Oil' , 'Price' : 300 , 'Quantity' : 150 , 'Category' : 'Eatables'},\n",
    "\"11\":{'ProductID' : 1230011 , 'Name' : 'Bisleri', 'Price' : 20 , 'Quantity' : 140 , 'Category' : 'Drink'},\n",
    "\"12\":{'ProductID' : 1230012 , 'Name' : 'Cheese' , 'Price' : 125 , 'Quantity' : 84 , 'Category' : 'Eatables'},\n",
    "\"13\":{'ProductID' : 1230013 , 'Name' : 'Bulb' , 'Price' : 200 , 'Quantity' : 99 , 'Category' : 'Appliances'},\n",
    "\"14\":{'ProductID' : 1230014 , 'Name' : 'Pen' , 'Price' : 8 , 'Quantity' : 60 , 'Category' : 'Accessory'},\n",
    "\"15\":{'ProductID' : 1230015 , 'Name' : 'Scissor' , 'Price' : 50 , 'Quantity' : 109 , 'Category' : 'Accessory'},\n",
    "\"16\":{'ProductID' : 1230016 , 'Name' : 'Detergent' , 'Price' : 99 , 'Quantity' : 77 , 'Category' : 'Cleaning'},\n",
    "\"17\":{'ProductID' : 1230017 , 'Name' : 'Badam' , 'Price' : 250 , 'Quantity' : 86 , 'Category' : 'Dry Fruits'},\n",
    "\"18\":{'ProductID' : 1230018 , 'Name' : 'Cashew' , 'Price' : 195 , 'Quantity' : 68 , 'Category' : 'Dry Fruits'},\n",
    "\"19\":{'ProductID' : 1230019 , 'Name' : 'Tea powder' , 'Price' : 123 , 'Quantity' : 102 , 'Category' : 'Drinks'},\n",
    "\"20\":{'ProductID' : 1230020 , 'Name' : 'Coffee' , 'Price' : 77 , 'Quantity' : 89 , 'Category' : 'Drinks'},\n",
    "\"21\":{'ProductID' : 1230021 , 'Name' : 'Slides' , 'Price' : 150 , 'Quantity' : 60 , 'Category' : 'Footwear'},\n",
    "\"22\":{'ProductID' : 1230022 , 'Name' : 'Dinner set' , 'Price' : 600 , 'Quantity' : 130 , 'Category' : 'Crockery'},\n",
    "\"23\":{'ProductID' : 1230023 , 'Name' : 'Clock' , 'Price' : 500 , 'Quantity' : 83 , 'Category' : 'Appliance'},\n",
    "\"24\":{'ProductID' : 1230024 , 'Name' : 'Glass' , 'Price' : 85 , 'Quantity' : 58 , 'Category' : 'Crockery'},\n",
    "\"25\":{'ProductID' : 1230025 , 'Name' : 'Cap' , 'Price' : 40 , 'Quantity' : 78 , 'Category' : 'Eatables'},\n",
    "\"26\":{'ProductID' : 1230026 , 'Name' : 'Socks' , 'Price' : 20 , 'Quantity' : 24 , 'Category' : 'Eatables'},\n",
    "\"27\":{'ProductID' : 1230027 , 'Name' : 'Towel' , 'Price' : 70 , 'Quantity' : 190 , 'Category' : 'Cloth'},\n",
    "\"28\":{'ProductID' : 1230028 , 'Name' : 'Chair' , 'Price' : 825 , 'Quantity' : 77 , 'Category': 'Furniture'},\n",
    "\"29\":{'ProductID' : 1230029 , 'Name' : 'Bag' , 'Price' : 68 , 'Quantity' : 91 , 'Category' : 'Cloth'},\n",
    "\"30\":{'ProductID' : 1230030 , 'Name' : 'Showpiece' , 'Price' : 145 , 'Quantity' : 92 , 'Category' : 'Decor'},\n",
    "\"31\":{'ProductID' : 1230031 , 'Name' : 'Vase' , 'Price' : 155 , 'Quantity' : 30 , 'Category' : 'Decor'},\n",
    "\"32\":{'ProductID' : 1230032 , 'Name' : 'Lamps' , 'Price' : 355 , 'Quantity' : 61 , 'Category' : 'Appliance'},\n",
    "\"33\":{'ProductID' : 1230033 , 'Name' : 'Photo Frame' , 'Price' : 103 , 'Quantity' : 97 , 'Category' : 'Decor'},\n",
    "\"34\":{'ProductID' : 1230034 , 'Name' : 'Kitchen Napkin' , 'Price' : 95 , 'Quantity' : 44 , 'Category' : 'Cloth'},\n",
    "\"35\":{'ProductID' : 1230035 , 'Name' : 'Bottle' , 'Price' : 55 , 'Quantity' : 44 , 'Category' : 'Accessory'}}"
   ]
  },
  {
   "cell_type": "code",
   "execution_count": 4,
   "metadata": {},
   "outputs": [
    {
     "data": {
      "text/plain": [
       "'{\"1\": {\"ProductID\": 123001, \"Name\": \"Biscuit\", \"Price\": 25, \"Quantity\": 60, \"Category\": \"Eatables\"}, \"2\": {\"ProductID\": 123002, \"Name\": \"Noodles\", \"Price\": 40, \"Quantity\": 100, \"Category\": \"Eatables\"}, \"3\": {\"ProductID\": 123003, \"Name\": \"Cold Drinks\", \"Price\": 30, \"Quantity\": 120, \"Category\": \"Drinks\"}, \"4\": {\"ProductID\": 123004, \"Name\": \"Maggi\", \"Price\": 12, \"Quantity\": 50, \"Category\": \"Eatables\"}, \"5\": {\"ProductID\": 123005, \"Name\": \"Salt\", \"Price\": 30, \"Quantity\": 35, \"Category\": \"Eatables\"}, \"6\": {\"ProductID\": 123006, \"Name\": \"Sauce\", \"Price\": 100, \"Quantity\": 65, \"Category\": \"Eatables\"}, \"7\": {\"ProductID\": 123007, \"Name\": \"Spices\", \"Price\": 120, \"Quantity\": 200, \"Category\": \"Eatables\"}, \"8\": {\"ProductID\": 123008, \"Name\": \"Soap\", \"Price\": 60, \"Quantity\": 130, \"Category\": \"Eatables\"}, \"9\": {\"ProductID\": 123009, \"Name\": \"Chocolate\", \"Price\": 10, \"Quantity\": 90, \"Category\": \"Eatables\"}, \"10\": {\"ProductID\": 1230010, \"Name\": \"Oil\", \"Price\": 300, \"Quantity\": 150, \"Category\": \"Eatables\"}, \"11\": {\"ProductID\": 1230011, \"Name\": \"Bisleri\", \"Price\": 20, \"Quantity\": 140, \"Category\": \"Drink\"}, \"12\": {\"ProductID\": 1230012, \"Name\": \"Cheese\", \"Price\": 125, \"Quantity\": 84, \"Category\": \"Eatables\"}, \"13\": {\"ProductID\": 1230013, \"Name\": \"Bulb\", \"Price\": 200, \"Quantity\": 99, \"Category\": \"Appliances\"}, \"14\": {\"ProductID\": 1230014, \"Name\": \"Pen\", \"Price\": 8, \"Quantity\": 60, \"Category\": \"Accessory\"}, \"15\": {\"ProductID\": 1230015, \"Name\": \"Scissor\", \"Price\": 50, \"Quantity\": 109, \"Category\": \"Accessory\"}, \"16\": {\"ProductID\": 1230016, \"Name\": \"Detergent\", \"Price\": 99, \"Quantity\": 77, \"Category\": \"Cleaning\"}, \"17\": {\"ProductID\": 1230017, \"Name\": \"Badam\", \"Price\": 250, \"Quantity\": 86, \"Category\": \"Dry Fruits\"}, \"18\": {\"ProductID\": 1230018, \"Name\": \"Cashew\", \"Price\": 195, \"Quantity\": 68, \"Category\": \"Dry Fruits\"}, \"19\": {\"ProductID\": 1230019, \"Name\": \"Tea powder\", \"Price\": 123, \"Quantity\": 102, \"Category\": \"Drinks\"}, \"20\": {\"ProductID\": 1230020, \"Name\": \"Coffee\", \"Price\": 77, \"Quantity\": 89, \"Category\": \"Drinks\"}, \"21\": {\"ProductID\": 1230021, \"Name\": \"Slides\", \"Price\": 150, \"Quantity\": 60, \"Category\": \"Footwear\"}, \"22\": {\"ProductID\": 1230022, \"Name\": \"Dinner set\", \"Price\": 600, \"Quantity\": 130, \"Category\": \"Crockery\"}, \"23\": {\"ProductID\": 1230023, \"Name\": \"Clock\", \"Price\": 500, \"Quantity\": 83, \"Category\": \"Appliance\"}, \"24\": {\"ProductID\": 1230024, \"Name\": \"Glass\", \"Price\": 85, \"Quantity\": 58, \"Category\": \"Crockery\"}, \"25\": {\"ProductID\": 1230025, \"Name\": \"Cap\", \"Price\": 40, \"Quantity\": 78, \"Category\": \"Eatables\"}, \"26\": {\"ProductID\": 1230026, \"Name\": \"Socks\", \"Price\": 20, \"Quantity\": 24, \"Category\": \"Eatables\"}, \"27\": {\"ProductID\": 1230027, \"Name\": \"Towel\", \"Price\": 70, \"Quantity\": 190, \"Category\": \"Cloth\"}, \"28\": {\"ProductID\": 1230028, \"Name\": \"Chair\", \"Price\": 825, \"Quantity\": 77, \"Category\": \"Furniture\"}, \"29\": {\"ProductID\": 1230029, \"Name\": \"Bag\", \"Price\": 68, \"Quantity\": 91, \"Category\": \"Cloth\"}, \"30\": {\"ProductID\": 1230030, \"Name\": \"Showpiece\", \"Price\": 145, \"Quantity\": 92, \"Category\": \"Decor\"}, \"31\": {\"ProductID\": 1230031, \"Name\": \"Vase\", \"Price\": 155, \"Quantity\": 30, \"Category\": \"Decor\"}, \"32\": {\"ProductID\": 1230032, \"Name\": \"Lamps\", \"Price\": 355, \"Quantity\": 61, \"Category\": \"Appliance\"}, \"33\": {\"ProductID\": 1230033, \"Name\": \"Photo Frame\", \"Price\": 103, \"Quantity\": 97, \"Category\": \"Decor\"}, \"34\": {\"ProductID\": 1230034, \"Name\": \"Kitchen Napkin\", \"Price\": 95, \"Quantity\": 44, \"Category\": \"Cloth\"}, \"35\": {\"ProductID\": 1230035, \"Name\": \"Bottle\", \"Price\": 55, \"Quantity\": 44, \"Category\": \"Accessory\"}}'"
      ]
     },
     "execution_count": 4,
     "metadata": {},
     "output_type": "execute_result"
    }
   ],
   "source": [
    "import json\n",
    "js = json.dumps(Items)\n",
    "js"
   ]
  },
  {
   "cell_type": "markdown",
   "metadata": {},
   "source": [
    "# choosing objects"
   ]
  },
  {
   "cell_type": "code",
   "execution_count": 7,
   "metadata": {},
   "outputs": [
    {
     "name": "stdout",
     "output_type": "stream",
     "text": [
      "\n",
      "-------------------------------------------------------------\n",
      "-------------------------------------------------------------\n",
      "     WELCOME TO  STORE\n",
      "-------------------------------------------------------------\n",
      "-------------------------------------------------------------\n",
      "     1.View Items\n",
      "     2.Buy Items\n",
      "     3.Exit\n",
      "     \n",
      "\n",
      "Enter your option :1\n",
      "----------------------------------\n",
      "items available Convenience Store\n",
      "----------------------------------\n",
      "Enter the items and quantity you would like to purchase:\n",
      "1 2\n",
      "12 34\n",
      "4 5\n",
      "4 5\n",
      "6 7\n",
      "8 7\n",
      "6 7\n"
     ]
    }
   ],
   "source": [
    "print('''\n",
    "-------------------------------------------------------------\n",
    "-------------------------------------------------------------\n",
    "     WELCOME TO  STORE\n",
    "-------------------------------------------------------------\n",
    "-------------------------------------------------------------\n",
    "     1.View Items\n",
    "     2.Buy Items\n",
    "     3.Exit\n",
    "     \n",
    "''')\n",
    "option = int(input(\"Enter your option :\"))\n",
    "if option == 1:\n",
    "    print('----------------------------------')\n",
    "    print(\"items available Convenience Store\")\n",
    "    \n",
    "    print('----------------------------------')\n",
    "  \n",
    "    print('Enter the items and quantity you would like to purchase:')\n",
    "    purchase={}\n",
    "    for i in range (0,7):\n",
    "        a = input()\n",
    "        b = a.split(' ')\n",
    "        purchase[b[0]] = int(b[1])\n",
    "\n",
    "if option ==2:\n",
    "    print(\"Buy the items of your choice\")\n",
    "    \n",
    "    amount=0\n",
    "    for i in purchase:    \n",
    "        if(i in Items.keys()):\n",
    "            print('you ordered {} {}'.format(purchase[i],Items[i]['Name']))\n",
    "            print('Cost {} '.format(purchase[i]*Items[i]['Price']))\n",
    "            amount+=purchase[i]*Items[i]['Price']\n",
    "    print('Total bill : ',amount)\n",
    "        \n",
    "    total={}\n",
    "    s=1\n",
    "    for i in purchase:\n",
    "        if(i in Items.keys()):\n",
    "            sne={}\n",
    "            sne['Item'] = Items[i]['Name']\n",
    "            sne['Quantity'] = purchase[i]\n",
    "            sne['Price'] = Items[i]['Price']\n",
    "            sne['total'] = Items[1]['Price']*purchase[i]\n",
    "            total[s] = sne\n",
    "            s+=1\n",
    "            \n",
    "    print(''' Payment mode  \n",
    "                1.Card\n",
    "                2.Cash          \n",
    "          ''')\n",
    "    op = int(input('1:'))\n",
    "    if op == 1:\n",
    "        print('Card')\n",
    "    \n",
    "    print(total)\n",
    "    if option == 3 :\n",
    "        print(\"Exit\")\n",
    "        \n",
    "    "
   ]
  },
  {
   "cell_type": "markdown",
   "metadata": {},
   "source": [
    "# adding and payment etc"
   ]
  },
  {
   "cell_type": "code",
   "execution_count": 8,
   "metadata": {},
   "outputs": [
    {
     "name": "stdout",
     "output_type": "stream",
     "text": [
      "Enter your option :2\n",
      "Buy the items of your choice\n",
      "you ordered 2 Biscuit\n",
      "Cost 50 \n",
      "you ordered 34 Cheese\n",
      "Cost 4250 \n",
      "you ordered 5 Maggi\n",
      "Cost 60 \n",
      "you ordered 7 Sauce\n",
      "Cost 700 \n",
      "you ordered 7 Soap\n",
      "Cost 420 \n",
      "Total bill :  5480\n",
      " Payment mode  \n",
      "                1.Card\n",
      "                2.Cash          \n",
      "          \n",
      "1:2\n"
     ]
    }
   ],
   "source": [
    "option = int(input(\"Enter your option :\"))\n",
    "if option == 1:\n",
    "    print('----------------------------------')\n",
    "    print(\"items available Convenience Store\")\n",
    "    \n",
    "    print('----------------------------------')\n",
    "  \n",
    "    print('Enter the items and quantity you would like to purchase:')\n",
    "    purchase={}\n",
    "    for i in range (0,7):\n",
    "        a = input()\n",
    "        b = a.split(' ')\n",
    "        purchase[b[0]] = int(b[1])\n",
    "    \n",
    "    \n",
    "if option ==2:\n",
    "    print(\"Buy the items of your choice\")\n",
    "    \n",
    "    amount=0\n",
    "    for i in purchase:    \n",
    "        if(i in Items.keys()):\n",
    "            print('you ordered {} {}'.format(purchase[i],Items[i]['Name']))\n",
    "            print('Cost {} '.format(purchase[i]*Items[i]['Price']))\n",
    "            amount+=purchase[i]*Items[i]['Price']\n",
    "    print('Total bill : ',amount)\n",
    "        \n",
    "    total={}\n",
    "    s=1\n",
    "    for i in purchase:\n",
    "        if(i in Items.keys()):\n",
    "            sne={}\n",
    "            sne['Item'] = Items[i]['Name']\n",
    "            sne['Quantity'] = purchase[i]\n",
    "            sne['Price'] = Items[i]['Price']\n",
    "            sne['total'] = Items[i]['Price']*purchase[i]\n",
    "            total[s] = sne\n",
    "            s+=1\n",
    "            \n",
    "    print(''' Payment mode  \n",
    "                1.Card\n",
    "                2.Cash          \n",
    "          ''')\n",
    "    op = int(input('1:'))\n",
    "    if op == 1:\n",
    "        print('Card')\n",
    "        print(total)\n",
    "    if option == 3 :\n",
    "        print(\"Exit\")"
   ]
  },
  {
   "cell_type": "markdown",
   "metadata": {},
   "source": [
    "# sales and etc"
   ]
  },
  {
   "cell_type": "code",
   "execution_count": 9,
   "metadata": {},
   "outputs": [],
   "source": [
    "j = json.dumps(total)\n",
    "\n",
    "fd = open(\"Items.json\",'w')\n",
    "\n",
    "fd.write(j)\n",
    "\n",
    "fd.close() \n",
    "\n",
    "\n",
    "\n"
   ]
  },
  {
   "cell_type": "code",
   "execution_count": 10,
   "metadata": {},
   "outputs": [],
   "source": [
    "fd = open(\"Items.json\", 'r') \n",
    "t = fd.read() \n",
    "fd.close() "
   ]
  },
  {
   "cell_type": "code",
   "execution_count": 11,
   "metadata": {},
   "outputs": [],
   "source": [
    "j = json.dumps(total)\n",
    "\n",
    "fd = open(\"Items.txt\",'w')\n",
    "\n",
    "fd.write(j)\n",
    "\n",
    "fd.close() "
   ]
  },
  {
   "cell_type": "code",
   "execution_count": 12,
   "metadata": {},
   "outputs": [],
   "source": [
    "fd = open(\"Items.txt\", 'r') \n",
    "t = fd.read() \n",
    "fd.close() "
   ]
  },
  {
   "cell_type": "code",
   "execution_count": 13,
   "metadata": {},
   "outputs": [
    {
     "data": {
      "text/plain": [
       "'{\"1\": {\"Item\": \"Biscuit\", \"Quantity\": 2, \"Price\": 25, \"total\": 50}, \"2\": {\"Item\": \"Cheese\", \"Quantity\": 34, \"Price\": 125, \"total\": 4250}, \"3\": {\"Item\": \"Maggi\", \"Quantity\": 5, \"Price\": 12, \"total\": 60}, \"4\": {\"Item\": \"Sauce\", \"Quantity\": 7, \"Price\": 100, \"total\": 700}, \"5\": {\"Item\": \"Soap\", \"Quantity\": 7, \"Price\": 60, \"total\": 420}}'"
      ]
     },
     "execution_count": 13,
     "metadata": {},
     "output_type": "execute_result"
    }
   ],
   "source": [
    "t"
   ]
  },
  {
   "cell_type": "code",
   "execution_count": 14,
   "metadata": {},
   "outputs": [],
   "source": [
    "s = json.loads(t) \n"
   ]
  },
  {
   "cell_type": "code",
   "execution_count": 15,
   "metadata": {},
   "outputs": [],
   "source": [
    "import time"
   ]
  },
  {
   "cell_type": "code",
   "execution_count": 17,
   "metadata": {},
   "outputs": [
    {
     "data": {
      "text/plain": [
       "{'1': {'Item': 'Biscuit', 'Quantity': 2, 'Price': 25, 'total': 50},\n",
       " '2': {'Item': 'Cheese', 'Quantity': 34, 'Price': 125, 'total': 4250},\n",
       " '3': {'Item': 'Maggi', 'Quantity': 5, 'Price': 12, 'total': 60},\n",
       " '4': {'Item': 'Sauce', 'Quantity': 7, 'Price': 100, 'total': 700},\n",
       " '5': {'Item': 'Soap', 'Quantity': 7, 'Price': 60, 'total': 420}}"
      ]
     },
     "execution_count": 17,
     "metadata": {},
     "output_type": "execute_result"
    }
   ],
   "source": [
    "s"
   ]
  },
  {
   "cell_type": "markdown",
   "metadata": {},
   "source": [
    "# add prod"
   ]
  },
  {
   "cell_type": "code",
   "execution_count": 18,
   "metadata": {},
   "outputs": [
    {
     "name": "stdout",
     "output_type": "stream",
     "text": [
      "Enter Product no:37\n",
      "Enter Product id:1008945\n",
      "Enter Name:con\n",
      "Enter Price:60\n",
      "Enter Quantity:45\n",
      "Enter Category:med\n"
     ]
    },
    {
     "data": {
      "text/plain": [
       "{'1': {'ProductID': 123001,\n",
       "  'Name': 'Biscuit',\n",
       "  'Price': 25,\n",
       "  'Quantity': 60,\n",
       "  'Category': 'Eatables'},\n",
       " '2': {'ProductID': 123002,\n",
       "  'Name': 'Noodles',\n",
       "  'Price': 40,\n",
       "  'Quantity': 100,\n",
       "  'Category': 'Eatables'},\n",
       " '3': {'ProductID': 123003,\n",
       "  'Name': 'Cold Drinks',\n",
       "  'Price': 30,\n",
       "  'Quantity': 120,\n",
       "  'Category': 'Drinks'},\n",
       " '4': {'ProductID': 123004,\n",
       "  'Name': 'Maggi',\n",
       "  'Price': 12,\n",
       "  'Quantity': 50,\n",
       "  'Category': 'Eatables'},\n",
       " '5': {'ProductID': 123005,\n",
       "  'Name': 'Salt',\n",
       "  'Price': 30,\n",
       "  'Quantity': 35,\n",
       "  'Category': 'Eatables'},\n",
       " '6': {'ProductID': 123006,\n",
       "  'Name': 'Sauce',\n",
       "  'Price': 100,\n",
       "  'Quantity': 65,\n",
       "  'Category': 'Eatables'},\n",
       " '7': {'ProductID': 123007,\n",
       "  'Name': 'Spices',\n",
       "  'Price': 120,\n",
       "  'Quantity': 200,\n",
       "  'Category': 'Eatables'},\n",
       " '8': {'ProductID': 123008,\n",
       "  'Name': 'Soap',\n",
       "  'Price': 60,\n",
       "  'Quantity': 130,\n",
       "  'Category': 'Eatables'},\n",
       " '9': {'ProductID': 123009,\n",
       "  'Name': 'Chocolate',\n",
       "  'Price': 10,\n",
       "  'Quantity': 90,\n",
       "  'Category': 'Eatables'},\n",
       " '10': {'ProductID': 1230010,\n",
       "  'Name': 'Oil',\n",
       "  'Price': 300,\n",
       "  'Quantity': 150,\n",
       "  'Category': 'Eatables'},\n",
       " '11': {'ProductID': 1230011,\n",
       "  'Name': 'Bisleri',\n",
       "  'Price': 20,\n",
       "  'Quantity': 140,\n",
       "  'Category': 'Drink'},\n",
       " '12': {'ProductID': 1230012,\n",
       "  'Name': 'Cheese',\n",
       "  'Price': 125,\n",
       "  'Quantity': 84,\n",
       "  'Category': 'Eatables'},\n",
       " '13': {'ProductID': 1230013,\n",
       "  'Name': 'Bulb',\n",
       "  'Price': 200,\n",
       "  'Quantity': 99,\n",
       "  'Category': 'Appliances'},\n",
       " '14': {'ProductID': 1230014,\n",
       "  'Name': 'Pen',\n",
       "  'Price': 8,\n",
       "  'Quantity': 60,\n",
       "  'Category': 'Accessory'},\n",
       " '15': {'ProductID': 1230015,\n",
       "  'Name': 'Scissor',\n",
       "  'Price': 50,\n",
       "  'Quantity': 109,\n",
       "  'Category': 'Accessory'},\n",
       " '16': {'ProductID': 1230016,\n",
       "  'Name': 'Detergent',\n",
       "  'Price': 99,\n",
       "  'Quantity': 77,\n",
       "  'Category': 'Cleaning'},\n",
       " '17': {'ProductID': 1230017,\n",
       "  'Name': 'Badam',\n",
       "  'Price': 250,\n",
       "  'Quantity': 86,\n",
       "  'Category': 'Dry Fruits'},\n",
       " '18': {'ProductID': 1230018,\n",
       "  'Name': 'Cashew',\n",
       "  'Price': 195,\n",
       "  'Quantity': 68,\n",
       "  'Category': 'Dry Fruits'},\n",
       " '19': {'ProductID': 1230019,\n",
       "  'Name': 'Tea powder',\n",
       "  'Price': 123,\n",
       "  'Quantity': 102,\n",
       "  'Category': 'Drinks'},\n",
       " '20': {'ProductID': 1230020,\n",
       "  'Name': 'Coffee',\n",
       "  'Price': 77,\n",
       "  'Quantity': 89,\n",
       "  'Category': 'Drinks'},\n",
       " '21': {'ProductID': 1230021,\n",
       "  'Name': 'Slides',\n",
       "  'Price': 150,\n",
       "  'Quantity': 60,\n",
       "  'Category': 'Footwear'},\n",
       " '22': {'ProductID': 1230022,\n",
       "  'Name': 'Dinner set',\n",
       "  'Price': 600,\n",
       "  'Quantity': 130,\n",
       "  'Category': 'Crockery'},\n",
       " '23': {'ProductID': 1230023,\n",
       "  'Name': 'Clock',\n",
       "  'Price': 500,\n",
       "  'Quantity': 83,\n",
       "  'Category': 'Appliance'},\n",
       " '24': {'ProductID': 1230024,\n",
       "  'Name': 'Glass',\n",
       "  'Price': 85,\n",
       "  'Quantity': 58,\n",
       "  'Category': 'Crockery'},\n",
       " '25': {'ProductID': 1230025,\n",
       "  'Name': 'Cap',\n",
       "  'Price': 40,\n",
       "  'Quantity': 78,\n",
       "  'Category': 'Eatables'},\n",
       " '26': {'ProductID': 1230026,\n",
       "  'Name': 'Socks',\n",
       "  'Price': 20,\n",
       "  'Quantity': 24,\n",
       "  'Category': 'Eatables'},\n",
       " '27': {'ProductID': 1230027,\n",
       "  'Name': 'Towel',\n",
       "  'Price': 70,\n",
       "  'Quantity': 190,\n",
       "  'Category': 'Cloth'},\n",
       " '28': {'ProductID': 1230028,\n",
       "  'Name': 'Chair',\n",
       "  'Price': 825,\n",
       "  'Quantity': 77,\n",
       "  'Category': 'Furniture'},\n",
       " '29': {'ProductID': 1230029,\n",
       "  'Name': 'Bag',\n",
       "  'Price': 68,\n",
       "  'Quantity': 91,\n",
       "  'Category': 'Cloth'},\n",
       " '30': {'ProductID': 1230030,\n",
       "  'Name': 'Showpiece',\n",
       "  'Price': 145,\n",
       "  'Quantity': 92,\n",
       "  'Category': 'Decor'},\n",
       " '31': {'ProductID': 1230031,\n",
       "  'Name': 'Vase',\n",
       "  'Price': 155,\n",
       "  'Quantity': 30,\n",
       "  'Category': 'Decor'},\n",
       " '32': {'ProductID': 1230032,\n",
       "  'Name': 'Lamps',\n",
       "  'Price': 355,\n",
       "  'Quantity': 61,\n",
       "  'Category': 'Appliance'},\n",
       " '33': {'ProductID': 1230033,\n",
       "  'Name': 'Photo Frame',\n",
       "  'Price': 103,\n",
       "  'Quantity': 97,\n",
       "  'Category': 'Decor'},\n",
       " '34': {'ProductID': 1230034,\n",
       "  'Name': 'Kitchen Napkin',\n",
       "  'Price': 95,\n",
       "  'Quantity': 44,\n",
       "  'Category': 'Cloth'},\n",
       " '35': {'ProductID': 1230035,\n",
       "  'Name': 'Bottle',\n",
       "  'Price': 55,\n",
       "  'Quantity': 44,\n",
       "  'Category': 'Accessory'},\n",
       " 37: {'ProductID': '1008945',\n",
       "  'Name': 'con',\n",
       "  'Price': 60,\n",
       "  'Quantity': 45,\n",
       "  'Category': 'med'}}"
      ]
     },
     "execution_count": 18,
     "metadata": {},
     "output_type": "execute_result"
    }
   ],
   "source": [
    "p_no = int(input(\"Enter Product no:\"))\n",
    "P_ID = str(input(\"Enter Product id:\"))\n",
    "Name = str(input(\"Enter Name:\"))\n",
    "Pr = int(input(\"Enter Price:\"))\n",
    "Q = int(input(\"Enter Quantity:\"))\n",
    "C = str(input(\"Enter Category:\"))\n",
    "\n",
    "Items[p_no] = {'ProductID': P_ID ,'Name': Name, 'Price': Pr ,'Quantity': Q , 'Category':C}\n",
    "\n",
    "js = json.dumps(Items)\n",
    "\n",
    "fd = open(\"Items.json\",'w')\n",
    "fd.write(js)\n",
    "fd.close()\n",
    "Items"
   ]
  },
  {
   "cell_type": "code",
   "execution_count": null,
   "metadata": {},
   "outputs": [],
   "source": []
  }
 ],
 "metadata": {
  "kernelspec": {
   "display_name": "Python 3",
   "language": "python",
   "name": "python3"
  },
  "language_info": {
   "codemirror_mode": {
    "name": "ipython",
    "version": 3
   },
   "file_extension": ".py",
   "mimetype": "text/x-python",
   "name": "python",
   "nbconvert_exporter": "python",
   "pygments_lexer": "ipython3",
   "version": "3.8.5"
  }
 },
 "nbformat": 4,
 "nbformat_minor": 4
}
